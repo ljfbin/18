{
 "cells": [
  {
   "cell_type": "markdown",
   "metadata": {},
   "source": [
    "# <center>从零开始成为科学家</center>\n",
    "## <center>第一课，交互工具编写</center>\n",
    "<center>by web3一级工具箱阿明</center>\n",
    "<center>直播听取课程领取Web3一级工具箱专属Token，欢迎添加阿明微信<font color=red size=3>Aming557</font>获得课程预告和直播代码</center>"
   ]
  },
  {
   "cell_type": "markdown",
   "metadata": {},
   "source": [
    "## 第一部分，python 基础"
   ]
  },
  {
   "cell_type": "markdown",
   "metadata": {},
   "source": [
    "1. 基础数据类型"
   ]
  },
  {
   "cell_type": "markdown",
   "metadata": {},
   "source": [
    "整型(int) 浮点型(float) 布尔型（bool）字符串(string) 数组(list) 字典(dic)"
   ]
  },
  {
   "cell_type": "code",
   "execution_count": 1,
   "metadata": {
    "scrolled": true
   },
   "outputs": [
    {
     "name": "stdout",
     "output_type": "stream",
     "text": [
      "<class 'int'>\n",
      "<class 'float'>\n",
      "<class 'float'>\n",
      "<class 'bool'>\n",
      "<class 'bool'>\n",
      "<class 'str'>\n",
      "<class 'list'>\n",
      "<class 'dict'>\n"
     ]
    }
   ],
   "source": [
    "#整型\n",
    "a = 2\n",
    "print(type(a))\n",
    "b = 2.1\n",
    "print(type(b))\n",
    "print(type(a+b))\n",
    "t = True\n",
    "f = False\n",
    "print(type(t))\n",
    "print(type(f))\n",
    "c = \"web3FirstToolBox\"\n",
    "print(type(c))\n",
    "l = [a,b,c]\n",
    "print(type(l))\n",
    "dic = {'整型':a,'浮点型':b,'字符串':c,'数组':l}\n",
    "print(type(dic))"
   ]
  },
  {
   "cell_type": "markdown",
   "metadata": {},
   "source": [
    "2. 变量"
   ]
  },
  {
   "cell_type": "markdown",
   "metadata": {},
   "source": [
    "变量是计算机语言中能储存计算结果或能表示值的抽象概念。变量可以通过变量名访问。"
   ]
  },
  {
   "cell_type": "code",
   "execution_count": 2,
   "metadata": {},
   "outputs": [
    {
     "name": "stdout",
     "output_type": "stream",
     "text": [
      "1\n",
      "2\n"
     ]
    }
   ],
   "source": [
    "a = 1\n",
    "print(a)\n",
    "b = 2\n",
    "print(b)"
   ]
  },
  {
   "cell_type": "code",
   "execution_count": 3,
   "metadata": {},
   "outputs": [
    {
     "data": {
      "text/plain": [
       "1"
      ]
     },
     "execution_count": 3,
     "metadata": {},
     "output_type": "execute_result"
    }
   ],
   "source": [
    "a"
   ]
  },
  {
   "cell_type": "code",
   "execution_count": 4,
   "metadata": {},
   "outputs": [
    {
     "name": "stdout",
     "output_type": "stream",
     "text": [
      "2\n"
     ]
    }
   ],
   "source": [
    "a = b\n",
    "print(a)"
   ]
  },
  {
   "cell_type": "code",
   "execution_count": 8,
   "metadata": {},
   "outputs": [
    {
     "data": {
      "text/plain": [
       "[2, 2.1, 'web3FirstToolBox']"
      ]
     },
     "execution_count": 8,
     "metadata": {},
     "output_type": "execute_result"
    }
   ],
   "source": [
    "l[]"
   ]
  },
  {
   "cell_type": "code",
   "execution_count": 10,
   "metadata": {},
   "outputs": [
    {
     "name": "stdout",
     "output_type": "stream",
     "text": [
      "web3FirstToolBox\n"
     ]
    }
   ],
   "source": [
    "print(l[2])"
   ]
  },
  {
   "cell_type": "code",
   "execution_count": 11,
   "metadata": {},
   "outputs": [
    {
     "data": {
      "text/plain": [
       "{'整型': 2,\n",
       " '浮点型': 2.1,\n",
       " '字符串': 'web3FirstToolBox',\n",
       " '数组': [2, 2.1, 'web3FirstToolBox']}"
      ]
     },
     "execution_count": 11,
     "metadata": {},
     "output_type": "execute_result"
    }
   ],
   "source": [
    "dic"
   ]
  },
  {
   "cell_type": "code",
   "execution_count": 18,
   "metadata": {},
   "outputs": [
    {
     "name": "stdout",
     "output_type": "stream",
     "text": [
      "web3FirstToolBox\n"
     ]
    }
   ],
   "source": [
    "print(dic['数组'][2])"
   ]
  },
  {
   "cell_type": "markdown",
   "metadata": {},
   "source": [
    "3. 运算符"
   ]
  },
  {
   "cell_type": "markdown",
   "metadata": {},
   "source": [
    "+,-,*,/ "
   ]
  },
  {
   "cell_type": "code",
   "execution_count": 21,
   "metadata": {},
   "outputs": [
    {
     "name": "stdout",
     "output_type": "stream",
     "text": [
      "2\n",
      "2\n"
     ]
    },
    {
     "data": {
      "text/plain": [
       "4"
      ]
     },
     "execution_count": 21,
     "metadata": {},
     "output_type": "execute_result"
    }
   ],
   "source": [
    "print(a)\n",
    "print(b)\n",
    "a + b"
   ]
  },
  {
   "cell_type": "markdown",
   "metadata": {},
   "source": [
    "逻辑运算符\n",
    "and(与)，or（或），非（not） ==(相等判断符) >(大于) <(小于) >=(大于等于) <=(小于等于)"
   ]
  },
  {
   "cell_type": "code",
   "execution_count": 23,
   "metadata": {},
   "outputs": [
    {
     "name": "stdout",
     "output_type": "stream",
     "text": [
      "2\n",
      "2\n"
     ]
    },
    {
     "data": {
      "text/plain": [
       "False"
      ]
     },
     "execution_count": 23,
     "metadata": {},
     "output_type": "execute_result"
    }
   ],
   "source": [
    "print(a)\n",
    "print(b)\n",
    "a > b"
   ]
  },
  {
   "cell_type": "code",
   "execution_count": null,
   "metadata": {},
   "outputs": [],
   "source": [
    "1,0"
   ]
  },
  {
   "cell_type": "code",
   "execution_count": null,
   "metadata": {},
   "outputs": [],
   "source": [
    "1 True\n",
    "0 False"
   ]
  },
  {
   "cell_type": "code",
   "execution_count": 24,
   "metadata": {},
   "outputs": [
    {
     "name": "stdout",
     "output_type": "stream",
     "text": [
      "False\n",
      "True\n",
      "False\n",
      "False\n",
      "True\n"
     ]
    }
   ],
   "source": [
    "a = True\n",
    "b = False\n",
    "print(a and b)\n",
    "print(a or b)\n",
    "print(not a)\n",
    "print(a == b)\n",
    "print(a > b)"
   ]
  },
  {
   "cell_type": "markdown",
   "metadata": {},
   "source": [
    "4. 条件表达式"
   ]
  },
  {
   "cell_type": "markdown",
   "metadata": {},
   "source": [
    "if (满足条件) 实现...功能"
   ]
  },
  {
   "cell_type": "markdown",
   "metadata": {},
   "source": [
    "if (满足条件) 实现...功能 else(否则) 实现...功能"
   ]
  },
  {
   "cell_type": "markdown",
   "metadata": {},
   "source": [
    "if (满足条件) 实现...功能 elif(满足条件) 实现...功能 else(否则) 实现...功能"
   ]
  },
  {
   "cell_type": "code",
   "execution_count": 25,
   "metadata": {
    "scrolled": true
   },
   "outputs": [
    {
     "name": "stdout",
     "output_type": "stream",
     "text": [
      "1\n",
      "1\n"
     ]
    }
   ],
   "source": [
    "a = 1\n",
    "\n",
    "if True:\n",
    "    print(a)\n",
    "if False:\n",
    "    print(a)\n",
    "\n",
    "if a > 0:\n",
    "    print(a)\n",
    "\n",
    "if a < 0:\n",
    "    print(a)"
   ]
  },
  {
   "cell_type": "code",
   "execution_count": 26,
   "metadata": {},
   "outputs": [
    {
     "name": "stdout",
     "output_type": "stream",
     "text": [
      "False\n"
     ]
    }
   ],
   "source": [
    "print(a<0)"
   ]
  },
  {
   "cell_type": "code",
   "execution_count": 29,
   "metadata": {},
   "outputs": [
    {
     "name": "stdout",
     "output_type": "stream",
     "text": [
      "均未满足条件\n"
     ]
    }
   ],
   "source": [
    "a = -1\n",
    "b = -2\n",
    "if (a > 0):\n",
    "    print('a>0')\n",
    "elif (b > a):\n",
    "    print('b>a')\n",
    "else:\n",
    "    print('均未满足条件')"
   ]
  },
  {
   "cell_type": "markdown",
   "metadata": {},
   "source": [
    "5. 循环"
   ]
  },
  {
   "cell_type": "markdown",
   "metadata": {},
   "source": [
    "重复执行一段代码，直到达到退出条件，有continue和break关键字"
   ]
  },
  {
   "cell_type": "code",
   "execution_count": 37,
   "metadata": {},
   "outputs": [
    {
     "name": "stdout",
     "output_type": "stream",
     "text": [
      "0\n",
      "1\n",
      "2\n",
      "3\n",
      "4\n",
      "6\n",
      "7\n",
      "8\n",
      "9\n",
      "10\n"
     ]
    }
   ],
   "source": [
    "cnt = 0\n",
    "while cnt <= 10:\n",
    "    if cnt == 5:\n",
    "        cnt += 1\n",
    "        continue\n",
    "    print(cnt)\n",
    "    \n",
    "    cnt+=1"
   ]
  },
  {
   "cell_type": "code",
   "execution_count": 38,
   "metadata": {},
   "outputs": [
    {
     "name": "stdout",
     "output_type": "stream",
     "text": [
      "0\n",
      "1\n",
      "2\n",
      "3\n",
      "4\n",
      "6\n",
      "7\n",
      "8\n",
      "9\n",
      "10\n"
     ]
    }
   ],
   "source": [
    "for cnt in range(20):\n",
    "    if cnt == 5:\n",
    "        continue\n",
    "    print(cnt)\n",
    "    if cnt >= 10:\n",
    "        break"
   ]
  },
  {
   "cell_type": "markdown",
   "metadata": {},
   "source": [
    "6. 函数（方法）"
   ]
  },
  {
   "cell_type": "markdown",
   "metadata": {},
   "source": [
    "把一部分代码打包起来，可以复用"
   ]
  },
  {
   "cell_type": "code",
   "execution_count": 39,
   "metadata": {},
   "outputs": [],
   "source": [
    "def my_print(text):\n",
    "    print('web3****************web3')\n",
    "    print(text)\n",
    "    print('web3****************web3')"
   ]
  },
  {
   "cell_type": "code",
   "execution_count": 40,
   "metadata": {},
   "outputs": [
    {
     "name": "stdout",
     "output_type": "stream",
     "text": [
      "web3****************web3\n",
      "我是阿明\n",
      "web3****************web3\n"
     ]
    }
   ],
   "source": [
    "my_print('我是阿明')"
   ]
  },
  {
   "cell_type": "code",
   "execution_count": 41,
   "metadata": {},
   "outputs": [
    {
     "name": "stdout",
     "output_type": "stream",
     "text": [
      "web3****************web3\n",
      "欢迎大家关注web3一级工具箱\n",
      "web3****************web3\n"
     ]
    }
   ],
   "source": [
    "my_print('欢迎大家关注web3一级工具箱')"
   ]
  },
  {
   "cell_type": "code",
   "execution_count": 42,
   "metadata": {},
   "outputs": [],
   "source": [
    "def my_add(a,b):\n",
    "    return a + b + 1"
   ]
  },
  {
   "cell_type": "code",
   "execution_count": 43,
   "metadata": {},
   "outputs": [
    {
     "data": {
      "text/plain": [
       "3"
      ]
     },
     "execution_count": 43,
     "metadata": {},
     "output_type": "execute_result"
    }
   ],
   "source": [
    "1+2"
   ]
  },
  {
   "cell_type": "code",
   "execution_count": 44,
   "metadata": {},
   "outputs": [
    {
     "name": "stdout",
     "output_type": "stream",
     "text": [
      "4\n"
     ]
    }
   ],
   "source": [
    "c = my_add(1,2)\n",
    "print(c)"
   ]
  },
  {
   "cell_type": "markdown",
   "metadata": {},
   "source": [
    "7. 类与对象"
   ]
  },
  {
   "cell_type": "markdown",
   "metadata": {},
   "source": [
    "把函数(方法)和变量聚合在一起，封装成一种新的数据类型"
   ]
  },
  {
   "cell_type": "code",
   "execution_count": 45,
   "metadata": {},
   "outputs": [],
   "source": [
    "class Animal(object):\n",
    "    def __init__(self,animal_type,speed):\n",
    "        self.animal_type = animal_type\n",
    "        self.speed = speed\n",
    "    \n",
    "    def get_animal_type(self):\n",
    "        return self.animal_type\n",
    "    \n",
    "    def run_need_time(self,distance):\n",
    "        return distance/self.speed"
   ]
  },
  {
   "cell_type": "code",
   "execution_count": 46,
   "metadata": {},
   "outputs": [],
   "source": [
    "tiger = Animal('Tiger',50)"
   ]
  },
  {
   "cell_type": "code",
   "execution_count": 47,
   "metadata": {},
   "outputs": [],
   "source": [
    "rabbit = Animal('Rabbit',20)"
   ]
  },
  {
   "cell_type": "code",
   "execution_count": 48,
   "metadata": {},
   "outputs": [
    {
     "name": "stdout",
     "output_type": "stream",
     "text": [
      "Tiger\n",
      "Rabbit\n"
     ]
    }
   ],
   "source": [
    "print(tiger.get_animal_type())\n",
    "print(rabbit.get_animal_type())"
   ]
  },
  {
   "cell_type": "code",
   "execution_count": 49,
   "metadata": {},
   "outputs": [
    {
     "name": "stdout",
     "output_type": "stream",
     "text": [
      "2.0\n",
      "5.0\n"
     ]
    }
   ],
   "source": [
    "print(tiger.run_need_time(100))\n",
    "print(rabbit.run_need_time(100))"
   ]
  },
  {
   "cell_type": "markdown",
   "metadata": {},
   "source": [
    "继承"
   ]
  },
  {
   "cell_type": "code",
   "execution_count": 51,
   "metadata": {},
   "outputs": [],
   "source": [
    "class Tiger(Animal):\n",
    "    def __init__(self,tiger_name,age):\n",
    "        self.tiger_name = tiger_name\n",
    "        self.age = age\n",
    "        if self.age > 10:\n",
    "            super(Tiger,self).__init__('Tiger',20)\n",
    "        elif self.age > 2:\n",
    "            super(Tiger,self).__init__('Tiger',50)\n",
    "        else:\n",
    "            super(Tiger,self).__init__('Tiger',10)\n",
    "    \n",
    "    def get_name(self):\n",
    "        return self.tiger_name\n",
    "    \n",
    "    def attack_human(self):\n",
    "        if self.age > 10:\n",
    "            return True\n",
    "        elif self.age > 2:\n",
    "            return True\n",
    "        else:\n",
    "            return False"
   ]
  },
  {
   "cell_type": "code",
   "execution_count": 52,
   "metadata": {},
   "outputs": [],
   "source": [
    "tiger1 = Tiger('小虎',2)\n",
    "tiger2 = Tiger('大虎',5)\n",
    "tiger3 = Tiger('老虎',15)"
   ]
  },
  {
   "cell_type": "code",
   "execution_count": 53,
   "metadata": {},
   "outputs": [
    {
     "name": "stdout",
     "output_type": "stream",
     "text": [
      "Tiger\n"
     ]
    }
   ],
   "source": [
    "print(tiger1.get_animal_type())"
   ]
  },
  {
   "cell_type": "code",
   "execution_count": 54,
   "metadata": {},
   "outputs": [
    {
     "name": "stdout",
     "output_type": "stream",
     "text": [
      "False\n",
      "小虎不会攻击人类\n",
      "True\n",
      "大虎会攻击人类\n",
      "True\n",
      "老虎会攻击人类\n"
     ]
    }
   ],
   "source": [
    "for tiger in [tiger1,tiger2,tiger3]:\n",
    "    print(tiger.attack_human())\n",
    "    if tiger.attack_human():\n",
    "        print(tiger.get_name()+'会攻击人类')\n",
    "    else:\n",
    "        print(tiger.get_name()+'不会攻击人类')"
   ]
  },
  {
   "cell_type": "markdown",
   "metadata": {},
   "source": [
    "8. 异常处理"
   ]
  },
  {
   "cell_type": "markdown",
   "metadata": {},
   "source": [
    "try,except"
   ]
  },
  {
   "cell_type": "code",
   "execution_count": 56,
   "metadata": {},
   "outputs": [],
   "source": [
    "thisIsTest = 'this is test'"
   ]
  },
  {
   "cell_type": "code",
   "execution_count": 59,
   "metadata": {},
   "outputs": [
    {
     "ename": "NameError",
     "evalue": "name 'thisIsTest1' is not defined",
     "output_type": "error",
     "traceback": [
      "\u001b[1;31m---------------------------------------------------------------------------\u001b[0m",
      "\u001b[1;31mNameError\u001b[0m                                 Traceback (most recent call last)",
      "\u001b[1;32m<ipython-input-59-c827836675f2>\u001b[0m in \u001b[0;36m<module>\u001b[1;34m\u001b[0m\n\u001b[1;32m----> 1\u001b[1;33m \u001b[0mprint\u001b[0m\u001b[1;33m(\u001b[0m\u001b[0mthisIsTest1\u001b[0m\u001b[1;33m)\u001b[0m\u001b[1;33m\u001b[0m\u001b[1;33m\u001b[0m\u001b[0m\n\u001b[0m",
      "\u001b[1;31mNameError\u001b[0m: name 'thisIsTest1' is not defined"
     ]
    }
   ],
   "source": [
    "print(thisIsTest1)"
   ]
  },
  {
   "cell_type": "code",
   "execution_count": 58,
   "metadata": {
    "scrolled": false
   },
   "outputs": [
    {
     "name": "stdout",
     "output_type": "stream",
     "text": [
      "name 'thisIsTest1' is not defined\n"
     ]
    }
   ],
   "source": [
    "try:\n",
    "    print(thisIsTest1)\n",
    "except Exception as e:\n",
    "    print(e)"
   ]
  },
  {
   "cell_type": "markdown",
   "metadata": {},
   "source": [
    "## 第二部分，开始编写交互脚本"
   ]
  },
  {
   "cell_type": "markdown",
   "metadata": {},
   "source": [
    "涉及知识点chrome,selenium,CSS选择器"
   ]
  },
  {
   "cell_type": "code",
   "execution_count": 1,
   "metadata": {},
   "outputs": [],
   "source": [
    "from selenium import webdriver\n",
    "import time\n",
    "import warnings\n",
    "import os \n",
    "import shutil\n",
    "from selenium.webdriver import Chrome\n",
    "from selenium.webdriver import ChromeOptions\n",
    "import random\n",
    "from selenium.webdriver.common.by import By\n",
    "import json\n",
    "warnings.filterwarnings('ignore')"
   ]
  },
  {
   "cell_type": "markdown",
   "metadata": {},
   "source": [
    "初始化webdriver"
   ]
  },
  {
   "cell_type": "code",
   "execution_count": 2,
   "metadata": {},
   "outputs": [],
   "source": [
    "def init_web_driver(chrome_data_dir):\n",
    "    options=ChromeOptions()\n",
    "    options.add_experimental_option(\"excludeSwitches\", [\"enable-automation\"])\n",
    "    options.add_experimental_option('useAutomationExtension', False) # 屏蔽webdriver特征\n",
    "    options.add_argument(\"--disable-blink-features\")\n",
    "    options.add_argument(\"--disable-blink-features=AutomationControlled\")\n",
    "    options.add_argument('--user-data-dir='+chrome_data_dir)\n",
    "\n",
    "    driver = webdriver.Chrome(options=options, executable_path='./chromedriver')\n",
    "    return driver"
   ]
  },
  {
   "cell_type": "code",
   "execution_count": 3,
   "metadata": {},
   "outputs": [],
   "source": [
    "def get_chrome_data_dir(dir_name):\n",
    "    try:\n",
    "        curdir =os.path.abspath('.')+'\\\\'+dir_name\n",
    "        os.mkdir(curdir)\n",
    "        return curdir\n",
    "    except Exception as e:\n",
    "        print(e)\n",
    "        return os.path.abspath('.')+'\\\\'+dir_name"
   ]
  },
  {
   "cell_type": "code",
   "execution_count": 78,
   "metadata": {},
   "outputs": [
    {
     "name": "stdout",
     "output_type": "stream",
     "text": [
      "[WinError 183] 当文件已存在时，无法创建该文件。: 'C:\\\\Users\\\\z5866\\\\Desktop\\\\web3科学家第一课\\\\1'\n"
     ]
    },
    {
     "data": {
      "text/plain": [
       "'C:\\\\Users\\\\z5866\\\\Desktop\\\\web3科学家第一课\\\\1'"
      ]
     },
     "execution_count": 78,
     "metadata": {},
     "output_type": "execute_result"
    }
   ],
   "source": [
    "get_chrome_data_dir('1')"
   ]
  },
  {
   "cell_type": "code",
   "execution_count": 5,
   "metadata": {},
   "outputs": [
    {
     "name": "stdout",
     "output_type": "stream",
     "text": [
      "[WinError 183] 当文件已存在时，无法创建该文件。: 'C:\\\\Users\\\\z5866\\\\Desktop\\\\web3科学家第一课\\\\1'\n"
     ]
    }
   ],
   "source": [
    "curdir = get_chrome_data_dir('2')"
   ]
  },
  {
   "cell_type": "code",
   "execution_count": 7,
   "metadata": {},
   "outputs": [
    {
     "name": "stdout",
     "output_type": "stream",
     "text": [
      "[WinError 183] 当文件已存在时，无法创建该文件。: 'C:\\\\Users\\\\z5866\\\\Desktop\\\\web3科学家第一课\\\\2'\n"
     ]
    }
   ],
   "source": [
    "driver1 = init_web_driver(get_chrome_data_dir('2'))"
   ]
  },
  {
   "cell_type": "code",
   "execution_count": 79,
   "metadata": {},
   "outputs": [],
   "source": [
    "driver = init_web_driver(curdir)"
   ]
  },
  {
   "cell_type": "code",
   "execution_count": 8,
   "metadata": {},
   "outputs": [],
   "source": [
    "driver.get('https://scroll.io/prealpha/bridge')"
   ]
  },
  {
   "cell_type": "markdown",
   "metadata": {},
   "source": [
    "我们需要查看交易是否成功，selenium不支持点击插件，我们需要创建一个新窗口来打开小狐狸钱包"
   ]
  },
  {
   "cell_type": "code",
   "execution_count": 9,
   "metadata": {},
   "outputs": [],
   "source": [
    "#创建新页面\n",
    "js = \"window.open('')\"\n",
    "driver.execute_script(js)"
   ]
  },
  {
   "cell_type": "markdown",
   "metadata": {},
   "source": [
    "调起新窗口后需要切换页面 driver.window_handles存储了不同窗口指针"
   ]
  },
  {
   "cell_type": "code",
   "execution_count": 10,
   "metadata": {},
   "outputs": [
    {
     "name": "stdout",
     "output_type": "stream",
     "text": [
      "['CDwindow-753BEA8528583F8538A4F8541C431DEB', 'CDwindow-CDD6CDD73E3D0E49C8E670470F976654']\n"
     ]
    }
   ],
   "source": [
    "print(driver.window_handles)"
   ]
  },
  {
   "cell_type": "code",
   "execution_count": 12,
   "metadata": {},
   "outputs": [],
   "source": [
    "#切换不同窗口\n",
    "driver.switch_to.window(driver.window_handles[1])"
   ]
  },
  {
   "cell_type": "code",
   "execution_count": 13,
   "metadata": {},
   "outputs": [],
   "source": [
    "meta_handle = driver.window_handles[-1]\n",
    "driver.switch_to.window(meta_handle)"
   ]
  },
  {
   "cell_type": "code",
   "execution_count": 14,
   "metadata": {},
   "outputs": [],
   "source": [
    "driver.get('chrome-extension://nkbihfbeogaeaoehlefnkodbefgpgknn/home.html#')"
   ]
  },
  {
   "cell_type": "markdown",
   "metadata": {},
   "source": [
    "由于交易需要花费gas费，我们可以通过token的变化确认交易是否成功，我们需要获得当前的token数量"
   ]
  },
  {
   "cell_type": "markdown",
   "metadata": {},
   "source": [
    "我们通过css选择器可以定位小狐狸钱包的余额元素"
   ]
  },
  {
   "cell_type": "code",
   "execution_count": 15,
   "metadata": {},
   "outputs": [],
   "source": [
    "amount_ele = driver.find_element(By.CSS_SELECTOR,'.currency-display-component__text')"
   ]
  },
  {
   "cell_type": "code",
   "execution_count": 16,
   "metadata": {},
   "outputs": [
    {
     "name": "stdout",
     "output_type": "stream",
     "text": [
      "<class 'selenium.webdriver.remote.webelement.WebElement'>\n",
      "0.8585\n"
     ]
    }
   ],
   "source": [
    "print(type(amount_ele))\n",
    "print(amount_ele.text)"
   ]
  },
  {
   "cell_type": "markdown",
   "metadata": {},
   "source": [
    "封装成方法"
   ]
  },
  {
   "cell_type": "code",
   "execution_count": 18,
   "metadata": {},
   "outputs": [],
   "source": [
    "def get_text(css_class,attemp_cnt = 10):\n",
    "    cnt = 0\n",
    "    while cnt < attemp_cnt:\n",
    "        try:\n",
    "            amount_ele = driver.find_element(By.CSS_SELECTOR,css_class)\n",
    "            return amount_ele.text\n",
    "        except:\n",
    "            time.sleep(2)\n",
    "            cnt += 1\n",
    "    return -1\n",
    "\n",
    "def get_amount(attemp_cnt = 10):\n",
    "    global meta_handle\n",
    "    driver.switch_to.window(meta_handle)\n",
    "    driver.get('chrome-extension://nkbihfbeogaeaoehlefnkodbefgpgknn/home.html#')\n",
    "    return get_text('.currency-display-component__text',attemp_cnt)"
   ]
  },
  {
   "cell_type": "code",
   "execution_count": 19,
   "metadata": {},
   "outputs": [
    {
     "data": {
      "text/plain": [
       "-1"
      ]
     },
     "execution_count": 19,
     "metadata": {},
     "output_type": "execute_result"
    }
   ],
   "source": [
    "get_text('.currency-display-component__text')"
   ]
  },
  {
   "cell_type": "code",
   "execution_count": 21,
   "metadata": {},
   "outputs": [
    {
     "data": {
      "text/plain": [
       "'0.8585'"
      ]
     },
     "execution_count": 21,
     "metadata": {},
     "output_type": "execute_result"
    }
   ],
   "source": [
    "get_amount()"
   ]
  },
  {
   "cell_type": "code",
   "execution_count": 22,
   "metadata": {},
   "outputs": [
    {
     "data": {
      "text/plain": [
       "-1"
      ]
     },
     "execution_count": 22,
     "metadata": {},
     "output_type": "execute_result"
    }
   ],
   "source": [
    "get_amount(1)"
   ]
  },
  {
   "cell_type": "markdown",
   "metadata": {},
   "source": [
    "### 几个通用的方法"
   ]
  },
  {
   "cell_type": "markdown",
   "metadata": {},
   "source": [
    "点击，输入，获取信息"
   ]
  },
  {
   "cell_type": "code",
   "execution_count": 28,
   "metadata": {},
   "outputs": [],
   "source": [
    "def press_button(css_class,atemp_cnt = 10):\n",
    "    cnt = 0\n",
    "    while cnt < atemp_cnt:\n",
    "        try:\n",
    "            button = driver.find_element(By.CSS_SELECTOR,css_class)\n",
    "            button.click()\n",
    "            time.sleep(2)\n",
    "            return True\n",
    "        except:\n",
    "            time.sleep(2)\n",
    "            cnt += 1\n",
    "    return False\n",
    "\n",
    "def press_button_from_list(css_class,index,atemp_cnt = 10):\n",
    "    cnt = 0\n",
    "    while cnt < atemp_cnt:\n",
    "        try:\n",
    "            button = driver.find_elements(By.CSS_SELECTOR,css_class)\n",
    "            button[index].click()\n",
    "            time.sleep(2)\n",
    "            return True\n",
    "        except:\n",
    "            time.sleep(2)\n",
    "            cnt += 1\n",
    "    return False\n",
    "\n",
    "def press_button_from_list_byName(css_class,button_name,atemp_cnt = 10):\n",
    "    cnt = 0\n",
    "    while cnt < atemp_cnt:\n",
    "        try:\n",
    "            button_list = driver.find_elements(By.CSS_SELECTOR,css_class)\n",
    "            for button in button_list:\n",
    "                if button.text == button_name:\n",
    "                    button.click()\n",
    "                    return True\n",
    "            time.sleep(2)\n",
    "            cnt += 1\n",
    "        except:\n",
    "            time.sleep(2)\n",
    "            cnt += 1\n",
    "    return False\n",
    "\n",
    "def send_keys(css_class,key,atemp_cnt = 10):\n",
    "    cnt = 0\n",
    "    while cnt < atemp_cnt:\n",
    "        try:\n",
    "            input_amount = driver.find_element(By.CSS_SELECTOR,css_class)\n",
    "            input_amount.send_keys(key)\n",
    "            return True\n",
    "        except:\n",
    "            time.sleep(2)\n",
    "            cnt += 1\n",
    "    return False"
   ]
  },
  {
   "cell_type": "markdown",
   "metadata": {},
   "source": [
    "开始跨链"
   ]
  },
  {
   "cell_type": "code",
   "execution_count": 37,
   "metadata": {},
   "outputs": [],
   "source": [
    "main_handle = driver.window_handles[0]\n",
    "driver.switch_to.window(main_handle)"
   ]
  },
  {
   "cell_type": "code",
   "execution_count": 24,
   "metadata": {},
   "outputs": [],
   "source": [
    "driver.get('https://scroll.io/prealpha/bridge')"
   ]
  },
  {
   "cell_type": "code",
   "execution_count": 25,
   "metadata": {},
   "outputs": [
    {
     "data": {
      "text/plain": [
       "['CDwindow-753BEA8528583F8538A4F8541C431DEB',\n",
       " 'CDwindow-CDD6CDD73E3D0E49C8E670470F976654',\n",
       " 'CDwindow-DB4AA76202BE157873C82FEF49985EE7']"
      ]
     },
     "execution_count": 25,
     "metadata": {},
     "output_type": "execute_result"
    }
   ],
   "source": [
    "driver.window_handles"
   ]
  },
  {
   "cell_type": "code",
   "execution_count": 26,
   "metadata": {},
   "outputs": [],
   "source": [
    "driver.switch_to.window(driver.window_handles[-1])"
   ]
  },
  {
   "cell_type": "code",
   "execution_count": 29,
   "metadata": {},
   "outputs": [
    {
     "data": {
      "text/plain": [
       "True"
      ]
     },
     "execution_count": 29,
     "metadata": {},
     "output_type": "execute_result"
    }
   ],
   "source": [
    "press_button('.btn-primary')"
   ]
  },
  {
   "cell_type": "code",
   "execution_count": 30,
   "metadata": {},
   "outputs": [
    {
     "data": {
      "text/plain": [
       "True"
      ]
     },
     "execution_count": 30,
     "metadata": {},
     "output_type": "execute_result"
    }
   ],
   "source": [
    "press_button('.btn-primary')"
   ]
  },
  {
   "cell_type": "code",
   "execution_count": 31,
   "metadata": {},
   "outputs": [],
   "source": [
    "driver.switch_to.window(main_handle)"
   ]
  },
  {
   "cell_type": "code",
   "execution_count": 38,
   "metadata": {},
   "outputs": [
    {
     "data": {
      "text/plain": [
       "True"
      ]
     },
     "execution_count": 38,
     "metadata": {},
     "output_type": "execute_result"
    }
   ],
   "source": [
    "send_keys('.MuiInputBase-input.MuiInput-input.mui-fw51gm-input','0.02')"
   ]
  },
  {
   "cell_type": "code",
   "execution_count": 39,
   "metadata": {},
   "outputs": [
    {
     "data": {
      "text/plain": [
       "True"
      ]
     },
     "execution_count": 39,
     "metadata": {},
     "output_type": "execute_result"
    }
   ],
   "source": [
    "press_button('.mui-n0ktxj-root-button')"
   ]
  },
  {
   "cell_type": "markdown",
   "metadata": {},
   "source": [
    "跳转到新创建的窗口"
   ]
  },
  {
   "cell_type": "code",
   "execution_count": 40,
   "metadata": {},
   "outputs": [],
   "source": [
    "driver.switch_to.window(driver.window_handles[-1])"
   ]
  },
  {
   "cell_type": "code",
   "execution_count": 41,
   "metadata": {},
   "outputs": [
    {
     "data": {
      "text/plain": [
       "True"
      ]
     },
     "execution_count": 41,
     "metadata": {},
     "output_type": "execute_result"
    }
   ],
   "source": [
    "press_button_from_list_byName('.page-container__footer-button','确认')"
   ]
  },
  {
   "cell_type": "code",
   "execution_count": 15,
   "metadata": {},
   "outputs": [],
   "source": [
    "driver.switch_to.window(driver.window_handles[0])"
   ]
  },
  {
   "cell_type": "code",
   "execution_count": 112,
   "metadata": {},
   "outputs": [
    {
     "data": {
      "text/plain": [
       "3"
      ]
     },
     "execution_count": 112,
     "metadata": {},
     "output_type": "execute_result"
    }
   ],
   "source": [
    "len(driver.window_handles)"
   ]
  },
  {
   "cell_type": "markdown",
   "metadata": {},
   "source": [
    "封装成一个方法"
   ]
  },
  {
   "cell_type": "code",
   "execution_count": 70,
   "metadata": {},
   "outputs": [],
   "source": [
    "def bridge_to_l2(amount_str,time_out):\n",
    "    global main_handle\n",
    "    driver.switch_to.window(main_handle)\n",
    "    driver.get('https://scroll.io/prealpha/bridge')\n",
    "    \n",
    "    last_time = int(time.time())\n",
    "    while len(driver.window_handles) != 3:\n",
    "        if int(time.time()) - last_time > time_out:\n",
    "            return False\n",
    "        time.sleep(2)     \n",
    "\n",
    "    driver.switch_to.window(driver.window_handles[-1])\n",
    "    press_button('.btn-primary')\n",
    "    press_button('.btn-primary')\n",
    "    driver.switch_to.window(main_handle)\n",
    "    \n",
    "    r = send_keys('.MuiInputBase-input.MuiInput-input.mui-fw51gm-input',amount_str)\n",
    "    if not r:\n",
    "        return False\n",
    "    r =  press_button('.mui-n0ktxj-root-button')\n",
    "    if not r:\n",
    "        return False\n",
    "    \n",
    "    driver.switch_to.window(driver.window_handles[-1])\n",
    "    r = press_button_from_list_byName('.page-container__footer-button','确认')\n",
    "    if not r:\n",
    "        return False\n",
    "    \n",
    "    driver.switch_to.window(main_handle)\n",
    "    return True"
   ]
  },
  {
   "cell_type": "code",
   "execution_count": 43,
   "metadata": {},
   "outputs": [
    {
     "data": {
      "text/plain": [
       "True"
      ]
     },
     "execution_count": 43,
     "metadata": {},
     "output_type": "execute_result"
    }
   ],
   "source": [
    "bridge_to_l2('0.01')"
   ]
  },
  {
   "cell_type": "code",
   "execution_count": 44,
   "metadata": {},
   "outputs": [],
   "source": [
    "driver.switch_to.window(meta_handle)"
   ]
  },
  {
   "cell_type": "markdown",
   "metadata": {},
   "source": [
    "创建新钱包"
   ]
  },
  {
   "cell_type": "code",
   "execution_count": 45,
   "metadata": {},
   "outputs": [
    {
     "data": {
      "text/plain": [
       "True"
      ]
     },
     "execution_count": 45,
     "metadata": {},
     "output_type": "execute_result"
    }
   ],
   "source": [
    "press_button('.identicon__address-wrapper')"
   ]
  },
  {
   "cell_type": "code",
   "execution_count": 46,
   "metadata": {},
   "outputs": [
    {
     "data": {
      "text/plain": [
       "True"
      ]
     },
     "execution_count": 46,
     "metadata": {},
     "output_type": "execute_result"
    }
   ],
   "source": [
    "press_button('.account-menu__item__text')"
   ]
  },
  {
   "cell_type": "code",
   "execution_count": 47,
   "metadata": {},
   "outputs": [
    {
     "data": {
      "text/plain": [
       "True"
      ]
     },
     "execution_count": 47,
     "metadata": {},
     "output_type": "execute_result"
    }
   ],
   "source": [
    "press_button('.btn-primary')"
   ]
  },
  {
   "cell_type": "markdown",
   "metadata": {},
   "source": [
    "封装成方法"
   ]
  },
  {
   "cell_type": "code",
   "execution_count": 48,
   "metadata": {},
   "outputs": [],
   "source": [
    "def create_account():\n",
    "    global meta_handle\n",
    "    driver.switch_to.window(meta_handle)\n",
    "    driver.get('chrome-extension://nkbihfbeogaeaoehlefnkodbefgpgknn/home.html#')\n",
    "    r = press_button('.identicon__address-wrapper')\n",
    "    if not r:\n",
    "        return False\n",
    "    r = press_button('.account-menu__item__text')\n",
    "    if not r:\n",
    "        return False\n",
    "    r = press_button('.btn-primary')\n",
    "    return r"
   ]
  },
  {
   "cell_type": "code",
   "execution_count": 50,
   "metadata": {},
   "outputs": [
    {
     "data": {
      "text/plain": [
       "True"
      ]
     },
     "execution_count": 50,
     "metadata": {},
     "output_type": "execute_result"
    }
   ],
   "source": [
    "create_account()"
   ]
  },
  {
   "cell_type": "markdown",
   "metadata": {},
   "source": [
    "切换钱包"
   ]
  },
  {
   "cell_type": "code",
   "execution_count": 51,
   "metadata": {},
   "outputs": [
    {
     "data": {
      "text/plain": [
       "True"
      ]
     },
     "execution_count": 51,
     "metadata": {},
     "output_type": "execute_result"
    }
   ],
   "source": [
    "press_button('.identicon__address-wrapper')"
   ]
  },
  {
   "cell_type": "code",
   "execution_count": 53,
   "metadata": {},
   "outputs": [
    {
     "data": {
      "text/plain": [
       "True"
      ]
     },
     "execution_count": 53,
     "metadata": {},
     "output_type": "execute_result"
    }
   ],
   "source": [
    "press_button_from_list('.account-menu__account.account-menu__item--clickable',3)"
   ]
  },
  {
   "cell_type": "code",
   "execution_count": 55,
   "metadata": {},
   "outputs": [],
   "source": [
    "def switch_account(index):\n",
    "    global meta_handle\n",
    "    driver.switch_to.window(meta_handle)\n",
    "    driver.get('chrome-extension://nkbihfbeogaeaoehlefnkodbefgpgknn/home.html#')\n",
    "    r = press_button('.identicon__address-wrapper')\n",
    "    if not r:\n",
    "        return False\n",
    "    r = press_button_from_list('.account-menu__account.account-menu__item--clickable',index)\n",
    "    return r"
   ]
  },
  {
   "cell_type": "code",
   "execution_count": 80,
   "metadata": {},
   "outputs": [
    {
     "ename": "NoSuchWindowException",
     "evalue": "Message: no such window\n  (Session info: chrome=102.0.5005.63)\nStacktrace:\nBacktrace:\n\tOrdinal0 [0x00C9D953+2414931]\n\tOrdinal0 [0x00C2F5E1+1963489]\n\tOrdinal0 [0x00B1C580+836992]\n\tOrdinal0 [0x00B6BF1F+1163039]\n\tOrdinal0 [0x00B64463+1131619]\n\tOrdinal0 [0x00B3E860+976992]\n\tOrdinal0 [0x00B3F756+980822]\n\tGetHandleVerifier [0x00F0CC62+2510274]\n\tGetHandleVerifier [0x00EFF760+2455744]\n\tGetHandleVerifier [0x00D2EABA+551962]\n\tGetHandleVerifier [0x00D2D916+547446]\n\tOrdinal0 [0x00C35F3B+1990459]\n\tOrdinal0 [0x00C3A898+2009240]\n\tOrdinal0 [0x00C3A985+2009477]\n\tOrdinal0 [0x00C43AD1+2046673]\n\tBaseThreadInitThunk [0x759B6BD9+25]\n\tRtlGetFullPathName_UEx [0x77698FD2+1218]\n\tRtlGetFullPathName_UEx [0x77698F9D+1165]\n",
     "output_type": "error",
     "traceback": [
      "\u001b[1;31m---------------------------------------------------------------------------\u001b[0m",
      "\u001b[1;31mNoSuchWindowException\u001b[0m                     Traceback (most recent call last)",
      "\u001b[1;32m<ipython-input-80-bea587b47f03>\u001b[0m in \u001b[0;36m<module>\u001b[1;34m\u001b[0m\n\u001b[1;32m----> 1\u001b[1;33m \u001b[0mswitch_account\u001b[0m\u001b[1;33m(\u001b[0m\u001b[1;36m0\u001b[0m\u001b[1;33m)\u001b[0m\u001b[1;33m\u001b[0m\u001b[1;33m\u001b[0m\u001b[0m\n\u001b[0m",
      "\u001b[1;32m<ipython-input-55-deec0f96823b>\u001b[0m in \u001b[0;36mswitch_account\u001b[1;34m(index)\u001b[0m\n\u001b[0;32m      1\u001b[0m \u001b[1;32mdef\u001b[0m \u001b[0mswitch_account\u001b[0m\u001b[1;33m(\u001b[0m\u001b[0mindex\u001b[0m\u001b[1;33m)\u001b[0m\u001b[1;33m:\u001b[0m\u001b[1;33m\u001b[0m\u001b[1;33m\u001b[0m\u001b[0m\n\u001b[0;32m      2\u001b[0m     \u001b[1;32mglobal\u001b[0m \u001b[0mmeta_handle\u001b[0m\u001b[1;33m\u001b[0m\u001b[1;33m\u001b[0m\u001b[0m\n\u001b[1;32m----> 3\u001b[1;33m     \u001b[0mdriver\u001b[0m\u001b[1;33m.\u001b[0m\u001b[0mswitch_to\u001b[0m\u001b[1;33m.\u001b[0m\u001b[0mwindow\u001b[0m\u001b[1;33m(\u001b[0m\u001b[0mmeta_handle\u001b[0m\u001b[1;33m)\u001b[0m\u001b[1;33m\u001b[0m\u001b[1;33m\u001b[0m\u001b[0m\n\u001b[0m\u001b[0;32m      4\u001b[0m     \u001b[0mdriver\u001b[0m\u001b[1;33m.\u001b[0m\u001b[0mget\u001b[0m\u001b[1;33m(\u001b[0m\u001b[1;34m'chrome-extension://nkbihfbeogaeaoehlefnkodbefgpgknn/home.html#'\u001b[0m\u001b[1;33m)\u001b[0m\u001b[1;33m\u001b[0m\u001b[1;33m\u001b[0m\u001b[0m\n\u001b[0;32m      5\u001b[0m     \u001b[0mr\u001b[0m \u001b[1;33m=\u001b[0m \u001b[0mpress_button\u001b[0m\u001b[1;33m(\u001b[0m\u001b[1;34m'.identicon__address-wrapper'\u001b[0m\u001b[1;33m)\u001b[0m\u001b[1;33m\u001b[0m\u001b[1;33m\u001b[0m\u001b[0m\n",
      "\u001b[1;32mC:\\ProgramData\\Anaconda3\\lib\\site-packages\\selenium\\webdriver\\remote\\switch_to.py\u001b[0m in \u001b[0;36mwindow\u001b[1;34m(self, window_name)\u001b[0m\n\u001b[0;32m    132\u001b[0m                 \u001b[0mdriver\u001b[0m\u001b[1;33m.\u001b[0m\u001b[0mswitch_to\u001b[0m\u001b[1;33m.\u001b[0m\u001b[0mwindow\u001b[0m\u001b[1;33m(\u001b[0m\u001b[1;34m'main'\u001b[0m\u001b[1;33m)\u001b[0m\u001b[1;33m\u001b[0m\u001b[1;33m\u001b[0m\u001b[0m\n\u001b[0;32m    133\u001b[0m         \"\"\"\n\u001b[1;32m--> 134\u001b[1;33m         \u001b[0mself\u001b[0m\u001b[1;33m.\u001b[0m\u001b[0m_w3c_window\u001b[0m\u001b[1;33m(\u001b[0m\u001b[0mwindow_name\u001b[0m\u001b[1;33m)\u001b[0m\u001b[1;33m\u001b[0m\u001b[1;33m\u001b[0m\u001b[0m\n\u001b[0m\u001b[0;32m    135\u001b[0m \u001b[1;33m\u001b[0m\u001b[0m\n\u001b[0;32m    136\u001b[0m     \u001b[1;32mdef\u001b[0m \u001b[0m_w3c_window\u001b[0m\u001b[1;33m(\u001b[0m\u001b[0mself\u001b[0m\u001b[1;33m,\u001b[0m \u001b[0mwindow_name\u001b[0m\u001b[1;33m)\u001b[0m\u001b[1;33m:\u001b[0m\u001b[1;33m\u001b[0m\u001b[1;33m\u001b[0m\u001b[0m\n",
      "\u001b[1;32mC:\\ProgramData\\Anaconda3\\lib\\site-packages\\selenium\\webdriver\\remote\\switch_to.py\u001b[0m in \u001b[0;36m_w3c_window\u001b[1;34m(self, window_name)\u001b[0m\n\u001b[0;32m    140\u001b[0m         \u001b[1;32mtry\u001b[0m\u001b[1;33m:\u001b[0m\u001b[1;33m\u001b[0m\u001b[1;33m\u001b[0m\u001b[0m\n\u001b[0;32m    141\u001b[0m             \u001b[1;31m# Try using it as a handle first.\u001b[0m\u001b[1;33m\u001b[0m\u001b[1;33m\u001b[0m\u001b[1;33m\u001b[0m\u001b[0m\n\u001b[1;32m--> 142\u001b[1;33m             \u001b[0msend_handle\u001b[0m\u001b[1;33m(\u001b[0m\u001b[0mwindow_name\u001b[0m\u001b[1;33m)\u001b[0m\u001b[1;33m\u001b[0m\u001b[1;33m\u001b[0m\u001b[0m\n\u001b[0m\u001b[0;32m    143\u001b[0m         \u001b[1;32mexcept\u001b[0m \u001b[0mNoSuchWindowException\u001b[0m\u001b[1;33m:\u001b[0m\u001b[1;33m\u001b[0m\u001b[1;33m\u001b[0m\u001b[0m\n\u001b[0;32m    144\u001b[0m             \u001b[1;31m# Check every window to try to find the given window name.\u001b[0m\u001b[1;33m\u001b[0m\u001b[1;33m\u001b[0m\u001b[1;33m\u001b[0m\u001b[0m\n",
      "\u001b[1;32mC:\\ProgramData\\Anaconda3\\lib\\site-packages\\selenium\\webdriver\\remote\\switch_to.py\u001b[0m in \u001b[0;36msend_handle\u001b[1;34m(h)\u001b[0m\n\u001b[0;32m    136\u001b[0m     \u001b[1;32mdef\u001b[0m \u001b[0m_w3c_window\u001b[0m\u001b[1;33m(\u001b[0m\u001b[0mself\u001b[0m\u001b[1;33m,\u001b[0m \u001b[0mwindow_name\u001b[0m\u001b[1;33m)\u001b[0m\u001b[1;33m:\u001b[0m\u001b[1;33m\u001b[0m\u001b[1;33m\u001b[0m\u001b[0m\n\u001b[0;32m    137\u001b[0m         \u001b[1;32mdef\u001b[0m \u001b[0msend_handle\u001b[0m\u001b[1;33m(\u001b[0m\u001b[0mh\u001b[0m\u001b[1;33m)\u001b[0m\u001b[1;33m:\u001b[0m\u001b[1;33m\u001b[0m\u001b[1;33m\u001b[0m\u001b[0m\n\u001b[1;32m--> 138\u001b[1;33m             \u001b[0mself\u001b[0m\u001b[1;33m.\u001b[0m\u001b[0m_driver\u001b[0m\u001b[1;33m.\u001b[0m\u001b[0mexecute\u001b[0m\u001b[1;33m(\u001b[0m\u001b[0mCommand\u001b[0m\u001b[1;33m.\u001b[0m\u001b[0mSWITCH_TO_WINDOW\u001b[0m\u001b[1;33m,\u001b[0m \u001b[1;33m{\u001b[0m\u001b[1;34m'handle'\u001b[0m\u001b[1;33m:\u001b[0m \u001b[0mh\u001b[0m\u001b[1;33m}\u001b[0m\u001b[1;33m)\u001b[0m\u001b[1;33m\u001b[0m\u001b[1;33m\u001b[0m\u001b[0m\n\u001b[0m\u001b[0;32m    139\u001b[0m \u001b[1;33m\u001b[0m\u001b[0m\n\u001b[0;32m    140\u001b[0m         \u001b[1;32mtry\u001b[0m\u001b[1;33m:\u001b[0m\u001b[1;33m\u001b[0m\u001b[1;33m\u001b[0m\u001b[0m\n",
      "\u001b[1;32mC:\\ProgramData\\Anaconda3\\lib\\site-packages\\selenium\\webdriver\\remote\\webdriver.py\u001b[0m in \u001b[0;36mexecute\u001b[1;34m(self, driver_command, params)\u001b[0m\n\u001b[0;32m    427\u001b[0m         \u001b[0mresponse\u001b[0m \u001b[1;33m=\u001b[0m \u001b[0mself\u001b[0m\u001b[1;33m.\u001b[0m\u001b[0mcommand_executor\u001b[0m\u001b[1;33m.\u001b[0m\u001b[0mexecute\u001b[0m\u001b[1;33m(\u001b[0m\u001b[0mdriver_command\u001b[0m\u001b[1;33m,\u001b[0m \u001b[0mparams\u001b[0m\u001b[1;33m)\u001b[0m\u001b[1;33m\u001b[0m\u001b[1;33m\u001b[0m\u001b[0m\n\u001b[0;32m    428\u001b[0m         \u001b[1;32mif\u001b[0m \u001b[0mresponse\u001b[0m\u001b[1;33m:\u001b[0m\u001b[1;33m\u001b[0m\u001b[1;33m\u001b[0m\u001b[0m\n\u001b[1;32m--> 429\u001b[1;33m             \u001b[0mself\u001b[0m\u001b[1;33m.\u001b[0m\u001b[0merror_handler\u001b[0m\u001b[1;33m.\u001b[0m\u001b[0mcheck_response\u001b[0m\u001b[1;33m(\u001b[0m\u001b[0mresponse\u001b[0m\u001b[1;33m)\u001b[0m\u001b[1;33m\u001b[0m\u001b[1;33m\u001b[0m\u001b[0m\n\u001b[0m\u001b[0;32m    430\u001b[0m             response['value'] = self._unwrap_value(\n\u001b[0;32m    431\u001b[0m                 response.get('value', None))\n",
      "\u001b[1;32mC:\\ProgramData\\Anaconda3\\lib\\site-packages\\selenium\\webdriver\\remote\\errorhandler.py\u001b[0m in \u001b[0;36mcheck_response\u001b[1;34m(self, response)\u001b[0m\n\u001b[0;32m    241\u001b[0m                 \u001b[0malert_text\u001b[0m \u001b[1;33m=\u001b[0m \u001b[0mvalue\u001b[0m\u001b[1;33m[\u001b[0m\u001b[1;34m'alert'\u001b[0m\u001b[1;33m]\u001b[0m\u001b[1;33m.\u001b[0m\u001b[0mget\u001b[0m\u001b[1;33m(\u001b[0m\u001b[1;34m'text'\u001b[0m\u001b[1;33m)\u001b[0m\u001b[1;33m\u001b[0m\u001b[1;33m\u001b[0m\u001b[0m\n\u001b[0;32m    242\u001b[0m             \u001b[1;32mraise\u001b[0m \u001b[0mexception_class\u001b[0m\u001b[1;33m(\u001b[0m\u001b[0mmessage\u001b[0m\u001b[1;33m,\u001b[0m \u001b[0mscreen\u001b[0m\u001b[1;33m,\u001b[0m \u001b[0mstacktrace\u001b[0m\u001b[1;33m,\u001b[0m \u001b[0malert_text\u001b[0m\u001b[1;33m)\u001b[0m  \u001b[1;31m# type: ignore[call-arg]  # mypy is not smart enough here\u001b[0m\u001b[1;33m\u001b[0m\u001b[1;33m\u001b[0m\u001b[0m\n\u001b[1;32m--> 243\u001b[1;33m         \u001b[1;32mraise\u001b[0m \u001b[0mexception_class\u001b[0m\u001b[1;33m(\u001b[0m\u001b[0mmessage\u001b[0m\u001b[1;33m,\u001b[0m \u001b[0mscreen\u001b[0m\u001b[1;33m,\u001b[0m \u001b[0mstacktrace\u001b[0m\u001b[1;33m)\u001b[0m\u001b[1;33m\u001b[0m\u001b[1;33m\u001b[0m\u001b[0m\n\u001b[0m",
      "\u001b[1;31mNoSuchWindowException\u001b[0m: Message: no such window\n  (Session info: chrome=102.0.5005.63)\nStacktrace:\nBacktrace:\n\tOrdinal0 [0x00C9D953+2414931]\n\tOrdinal0 [0x00C2F5E1+1963489]\n\tOrdinal0 [0x00B1C580+836992]\n\tOrdinal0 [0x00B6BF1F+1163039]\n\tOrdinal0 [0x00B64463+1131619]\n\tOrdinal0 [0x00B3E860+976992]\n\tOrdinal0 [0x00B3F756+980822]\n\tGetHandleVerifier [0x00F0CC62+2510274]\n\tGetHandleVerifier [0x00EFF760+2455744]\n\tGetHandleVerifier [0x00D2EABA+551962]\n\tGetHandleVerifier [0x00D2D916+547446]\n\tOrdinal0 [0x00C35F3B+1990459]\n\tOrdinal0 [0x00C3A898+2009240]\n\tOrdinal0 [0x00C3A985+2009477]\n\tOrdinal0 [0x00C43AD1+2046673]\n\tBaseThreadInitThunk [0x759B6BD9+25]\n\tRtlGetFullPathName_UEx [0x77698FD2+1218]\n\tRtlGetFullPathName_UEx [0x77698F9D+1165]\n"
     ]
    }
   ],
   "source": [
    "switch_account(0)"
   ]
  },
  {
   "cell_type": "markdown",
   "metadata": {},
   "source": [
    "转账"
   ]
  },
  {
   "cell_type": "code",
   "execution_count": 58,
   "metadata": {},
   "outputs": [
    {
     "data": {
      "text/plain": [
       "True"
      ]
     },
     "execution_count": 58,
     "metadata": {},
     "output_type": "execute_result"
    }
   ],
   "source": [
    "press_button_from_list_byName('.icon-button.eth-overview__button','发送')"
   ]
  },
  {
   "cell_type": "code",
   "execution_count": 59,
   "metadata": {},
   "outputs": [
    {
     "data": {
      "text/plain": [
       "True"
      ]
     },
     "execution_count": 59,
     "metadata": {},
     "output_type": "execute_result"
    }
   ],
   "source": [
    "press_button('.send__select-recipient-wrapper__list')"
   ]
  },
  {
   "cell_type": "code",
   "execution_count": 60,
   "metadata": {},
   "outputs": [
    {
     "data": {
      "text/plain": [
       "True"
      ]
     },
     "execution_count": 60,
     "metadata": {},
     "output_type": "execute_result"
    }
   ],
   "source": [
    "press_button_from_list('.send__select-recipient-wrapper__group-item',4)"
   ]
  },
  {
   "cell_type": "code",
   "execution_count": 61,
   "metadata": {},
   "outputs": [
    {
     "data": {
      "text/plain": [
       "True"
      ]
     },
     "execution_count": 61,
     "metadata": {},
     "output_type": "execute_result"
    }
   ],
   "source": [
    "send_keys('.unit-input__input','0.1')"
   ]
  },
  {
   "cell_type": "code",
   "execution_count": 62,
   "metadata": {},
   "outputs": [
    {
     "data": {
      "text/plain": [
       "True"
      ]
     },
     "execution_count": 62,
     "metadata": {},
     "output_type": "execute_result"
    }
   ],
   "source": [
    "press_button('.send-v2__amount-max__button')"
   ]
  },
  {
   "cell_type": "code",
   "execution_count": 63,
   "metadata": {},
   "outputs": [
    {
     "data": {
      "text/plain": [
       "True"
      ]
     },
     "execution_count": 63,
     "metadata": {},
     "output_type": "execute_result"
    }
   ],
   "source": [
    "press_button('.btn-primary')"
   ]
  },
  {
   "cell_type": "code",
   "execution_count": 64,
   "metadata": {},
   "outputs": [
    {
     "data": {
      "text/plain": [
       "True"
      ]
     },
     "execution_count": 64,
     "metadata": {},
     "output_type": "execute_result"
    }
   ],
   "source": [
    "press_button('.btn-primary')"
   ]
  },
  {
   "cell_type": "markdown",
   "metadata": {},
   "source": [
    "封装成方法"
   ]
  },
  {
   "cell_type": "code",
   "execution_count": 65,
   "metadata": {},
   "outputs": [],
   "source": [
    "def transfer_eth(to_index):\n",
    "    global meta_handle\n",
    "    driver.switch_to.window(meta_handle)\n",
    "    driver.get('chrome-extension://nkbihfbeogaeaoehlefnkodbefgpgknn/home.html#')\n",
    "    r = press_button_from_list_byName('.icon-button.eth-overview__button','发送')\n",
    "    if not r:\n",
    "        return False\n",
    "    r = press_button('.send__select-recipient-wrapper__list')\n",
    "    if not r:\n",
    "        return False\n",
    "    r = press_button_from_list('.send__select-recipient-wrapper__group-item',to_index)\n",
    "    if not r:\n",
    "        return False\n",
    "    r = press_button('.send-v2__amount-max__button')\n",
    "    if not r:\n",
    "        return False\n",
    "    r = press_button('.btn-primary')\n",
    "    if not r:\n",
    "        return False\n",
    "    return press_button('.btn-primary')"
   ]
  },
  {
   "cell_type": "code",
   "execution_count": 67,
   "metadata": {},
   "outputs": [
    {
     "data": {
      "text/plain": [
       "True"
      ]
     },
     "execution_count": 67,
     "metadata": {},
     "output_type": "execute_result"
    }
   ],
   "source": [
    "switch_account(4)"
   ]
  },
  {
   "cell_type": "code",
   "execution_count": 82,
   "metadata": {},
   "outputs": [
    {
     "data": {
      "text/plain": [
       "True"
      ]
     },
     "execution_count": 82,
     "metadata": {},
     "output_type": "execute_result"
    }
   ],
   "source": [
    "transfer_eth(0)"
   ]
  },
  {
   "cell_type": "code",
   "execution_count": 85,
   "metadata": {},
   "outputs": [
    {
     "data": {
      "text/plain": [
       "True"
      ]
     },
     "execution_count": 85,
     "metadata": {},
     "output_type": "execute_result"
    }
   ],
   "source": [
    "switch_account(0)"
   ]
  },
  {
   "cell_type": "code",
   "execution_count": 74,
   "metadata": {},
   "outputs": [],
   "source": [
    "def check_amount_change(last_amount,time_out):\n",
    "    last_time = int(time.time())\n",
    "    while True:\n",
    "        cur_time = int(time.time())\n",
    "        if cur_time - last_time > time_out:\n",
    "            print('检查token数量变化超时')\n",
    "            return -1\n",
    "        cur_amount = get_amount()\n",
    "        if cur_amount != last_amount:\n",
    "            return cur_amount\n",
    "        time.sleep(2)\n",
    "    "
   ]
  },
  {
   "cell_type": "code",
   "execution_count": 89,
   "metadata": {},
   "outputs": [
    {
     "data": {
      "text/plain": [
       "'0.9392'"
      ]
     },
     "execution_count": 89,
     "metadata": {},
     "output_type": "execute_result"
    }
   ],
   "source": [
    "last_amount"
   ]
  },
  {
   "cell_type": "code",
   "execution_count": 75,
   "metadata": {},
   "outputs": [],
   "source": [
    "def dis_connect():\n",
    "    global main_handle\n",
    "    driver.switch_to.window(main_handle)\n",
    "    driver.get('chrome-extension://nkbihfbeogaeaoehlefnkodbefgpgknn/home.html#')\n",
    "    #点击三个点\n",
    "    r = press_button('.fas.fa-ellipsis-v.menu-bar__account-options')\n",
    "    if not r:\n",
    "        return r\n",
    "\n",
    "    #点击已连接的网站\n",
    "    r = press_button_from_list_byName('.menu-item','已连接的网站')\n",
    "    if not r:\n",
    "        return r\n",
    "    #点击断开连接\n",
    "    r = press_button('.button.btn-link.connected-sites-list__content-row-link-button')\n",
    "    if not r:\n",
    "        return r\n",
    "    #确认断开连接\n",
    "    r = press_button('.button.btn--rounded.btn-primary')\n",
    "    if not r:\n",
    "        return r"
   ]
  },
  {
   "cell_type": "markdown",
   "metadata": {},
   "source": [
    "开始编写交互逻辑"
   ]
  },
  {
   "cell_type": "code",
   "execution_count": 71,
   "metadata": {},
   "outputs": [],
   "source": [
    "def main_logic(cur_index):\n",
    "    last_amount = get_amount()\n",
    "    while True:\n",
    "        print(f'切换至第{cur_index}个交互账户')\n",
    "        switch_account(cur_index)\n",
    "        cnt = 0        \n",
    "        print('开始跨链')\n",
    "        #跨链\n",
    "        while cnt < 5:\n",
    "            r = bridge_to_l2('0.02',100)\n",
    "            if r:\n",
    "                break\n",
    "            else:\n",
    "                cnt += 1\n",
    "                print('跨链失败')\n",
    "                return\n",
    "        \n",
    "        r = check_amount_change(last_amount,60)\n",
    "        if r == -1:\n",
    "            print('数据未发生变化，跨链失败')\n",
    "            return\n",
    "        else:\n",
    "            last_amount = r\n",
    "        #其他交互任务。。。\n",
    "        #......\n",
    "        #......\n",
    "        print('开始创建新账户')\n",
    "        create_account()\n",
    "        print('切换回交易账户')\n",
    "        switch_account(cur_index)\n",
    "        print('转移token')\n",
    "        transfer_eth(cur_index + 1)\n",
    "        r = check_amount_change(last_amount,60)\n",
    "        if r == -1:\n",
    "            print('数据未发生变化，转账失败')\n",
    "            return\n",
    "        print('断开与DAPP账户')\n",
    "        #由于连接上后，不断开连接无法连接钱包\n",
    "        dis_connect() \n",
    "        cur_index += 1\n",
    "        "
   ]
  },
  {
   "cell_type": "code",
   "execution_count": 77,
   "metadata": {},
   "outputs": [
    {
     "name": "stdout",
     "output_type": "stream",
     "text": [
      "切换至第4个交互账户\n",
      "开始跨链\n",
      "开始创建新账户\n",
      "切换回交易账户\n",
      "转移token\n",
      "断开与DAPP账户\n",
      "切换至第5个交互账户\n",
      "开始跨链\n",
      "开始创建新账户\n",
      "切换回交易账户\n",
      "转移token\n",
      "断开与DAPP账户\n",
      "切换至第6个交互账户\n",
      "开始跨链\n",
      "开始创建新账户\n",
      "切换回交易账户\n",
      "转移token\n",
      "数据未发生变化，转账失败\n"
     ]
    }
   ],
   "source": [
    "main_logic(4)"
   ]
  },
  {
   "cell_type": "code",
   "execution_count": null,
   "metadata": {},
   "outputs": [],
   "source": []
  }
 ],
 "metadata": {
  "kernelspec": {
   "display_name": "Python 3",
   "language": "python",
   "name": "python3"
  },
  "language_info": {
   "codemirror_mode": {
    "name": "ipython",
    "version": 3
   },
   "file_extension": ".py",
   "mimetype": "text/x-python",
   "name": "python",
   "nbconvert_exporter": "python",
   "pygments_lexer": "ipython3",
   "version": "3.8.3"
  }
 },
 "nbformat": 4,
 "nbformat_minor": 4
}
